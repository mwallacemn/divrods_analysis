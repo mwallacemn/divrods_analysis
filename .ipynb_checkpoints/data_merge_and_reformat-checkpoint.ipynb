{
 "cells": [
  {
   "cell_type": "markdown",
   "metadata": {},
   "source": [
    "Checking out the device logger data set and comparing to the repaired preference data set. The 'target' artwork column from the device logger data set can be added to the repaired preferences data set based on shared user_id/item_id combinations. This combination should happen only once - a piece of artwork should only receive one favorable or disfavorable rating per user. "
   ]
  },
  {
   "cell_type": "code",
   "execution_count": 94,
   "metadata": {},
   "outputs": [],
   "source": [
    "import os\n",
    "import pandas as pd\n",
    "import numpy as np\n",
    "import matplotlib.pyplot as plt\n",
    "from pathlib import Path"
   ]
  },
  {
   "cell_type": "code",
   "execution_count": 2,
   "metadata": {},
   "outputs": [],
   "source": [
    "# loading in the data sets from the current directory\n",
    "dir = Path(os.getcwd())\n",
    "device_logger = pd.read_csv(dir/\"device_preference_log.csv\", parse_dates=['timestamp'])\n",
    "prefs = pd.read_csv(dir/\"prefs2080423REPAIRED.csv\", parse_dates=['synced_timestamp', 'timestamp'])"
   ]
  },
  {
   "cell_type": "markdown",
   "metadata": {},
   "source": [
    "To merge, these datasets will have to have the same column names. Since the preferences set will ultimately be keeped, I will updated the device logger columns. Also, altering the prefs column to show True or False instead of 'y' or 'n'."
   ]
  },
  {
   "cell_type": "code",
   "execution_count": 3,
   "metadata": {},
   "outputs": [],
   "source": [
    "device_logger['pref'] = device_logger.pref.replace('n', False)\n",
    "device_logger['pref'] = device_logger.pref.replace('y', True)\n",
    "device_logger = device_logger.rename(columns={'artid': 'item_id'})\n",
    "device_logger = device_logger.rename(columns={'session_id': 'user_id'})\n",
    "device_logger = device_logger.rename(columns={'timestamp': 'synced_timestamp'})\n",
    "prefs['synced_timestamp'] = prefs['synced_timestamp'].dt.round('1S')"
   ]
  },
  {
   "cell_type": "markdown",
   "metadata": {},
   "source": [
    "Checking to see if the number of non-survey data pieces in the preferences column match the number of rows in the device logger data set. Looks like there are slightly more records in the preferences set, which should be alright."
   ]
  },
  {
   "cell_type": "code",
   "execution_count": 4,
   "metadata": {},
   "outputs": [
    {
     "name": "stdout",
     "output_type": "stream",
     "text": [
      "(2201, 5)\n"
     ]
    },
    {
     "data": {
      "text/plain": [
       "(2714, 6)"
      ]
     },
     "execution_count": 4,
     "metadata": {},
     "output_type": "execute_result"
    }
   ],
   "source": [
    "print(device_logger.shape)\n",
    "prefs[~prefs.user_id.str.startswith('admin')].shape"
   ]
  },
  {
   "cell_type": "markdown",
   "metadata": {},
   "source": [
    "Also want to make sure there aren't duplicate user/artwork pairs. If that is the case and the response or the art work varies, there isn't enough data to tell what the true preference was. It is also possible the divrods device mistook the art that a user intended to like. These duplicate pieces will have to be removed to ensure the recommendor model has accurate data."
   ]
  },
  {
   "cell_type": "code",
   "execution_count": 5,
   "metadata": {},
   "outputs": [
    {
     "data": {
      "text/plain": [
       "(166, 3)"
      ]
     },
     "execution_count": 5,
     "metadata": {},
     "output_type": "execute_result"
    }
   ],
   "source": [
    "dups_dl = device_logger.groupby(['user_id','item_id']).size().reset_index().rename(columns={0:'count'})\n",
    "dups_dl[dups_dl['count'] > 1].shape"
   ]
  },
  {
   "cell_type": "code",
   "execution_count": 6,
   "metadata": {},
   "outputs": [
    {
     "name": "stdout",
     "output_type": "stream",
     "text": [
      "(1815, 5)\n"
     ]
    },
    {
     "data": {
      "text/plain": [
       "(2201, 5)"
      ]
     },
     "execution_count": 6,
     "metadata": {},
     "output_type": "execute_result"
    }
   ],
   "source": [
    "# lost several hundred rows due to duplicates\n",
    "dl2 = device_logger.drop_duplicates(keep=False, subset=['user_id', 'item_id'])\n",
    "print(dl2.shape)\n",
    "device_logger.shape"
   ]
  },
  {
   "cell_type": "code",
   "execution_count": 7,
   "metadata": {},
   "outputs": [
    {
     "data": {
      "text/plain": [
       "(222, 3)"
      ]
     },
     "execution_count": 7,
     "metadata": {},
     "output_type": "execute_result"
    }
   ],
   "source": [
    "# same with the preference data - many duplicates have to be removed\n",
    "dups_prefs = prefs.groupby(['user_id','item_id']).size().reset_index().rename(columns={0:'count'})\n",
    "dups_prefs[dups_prefs['count'] > 1].shape"
   ]
  },
  {
   "cell_type": "code",
   "execution_count": 164,
   "metadata": {},
   "outputs": [
    {
     "name": "stdout",
     "output_type": "stream",
     "text": [
      "(3155, 6)\n"
     ]
    },
    {
     "data": {
      "text/plain": [
       "(3679, 6)"
      ]
     },
     "execution_count": 164,
     "metadata": {},
     "output_type": "execute_result"
    }
   ],
   "source": [
    "prefs_deduped = prefs.drop_duplicates(keep=False, subset=['user_id', 'item_id'])\n",
    "print(prefs_deduped.shape)\n",
    "prefs.shape"
   ]
  },
  {
   "cell_type": "markdown",
   "metadata": {},
   "source": [
    "Merging the data sets through a pandas merge, based on user_id and item_id pairs. We will transfer over the 'target' value from the device logger data set to the preferences data set. Also, dropping the timestamp and resource id columns as the former is mostly NA's and the latter does not provide benefit."
   ]
  },
  {
   "cell_type": "code",
   "execution_count": 9,
   "metadata": {},
   "outputs": [],
   "source": [
    "merged_df = pd.merge(prefs_deduped, dl2[['user_id', 'item_id', 'target']], how='left',\n",
    "                     on=['user_id', 'item_id'])\n",
    "merged_df = merged_df.drop(['resource_id', 'timestamp'], axis='columns')\n",
    "# saving the changes to a new .csv\n",
    "merged_df.to_csv(\"merged_preferences.csv\", index=False)"
   ]
  }
 ],
 "metadata": {
  "kernelspec": {
   "display_name": "divrods",
   "language": "python",
   "name": "divrods"
  },
  "language_info": {
   "codemirror_mode": {
    "name": "ipython",
    "version": 3
   },
   "file_extension": ".py",
   "mimetype": "text/x-python",
   "name": "python",
   "nbconvert_exporter": "python",
   "pygments_lexer": "ipython3",
   "version": "3.6.7"
  }
 },
 "nbformat": 4,
 "nbformat_minor": 2
}
