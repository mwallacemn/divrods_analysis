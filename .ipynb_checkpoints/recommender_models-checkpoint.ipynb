{
 "cells": [
  {
   "cell_type": "markdown",
   "metadata": {},
   "source": [
    "# Recommender model building\n",
    "\n",
    "This notebook is testing out recommendation engines from the Surprise scikit to see if a recommendation system can be made for the Minnesota Institute of Arts data. The Surprise scikit was chosen because of it's adaptable models, thorough documentation, and active repository. More info about Surprise can be found here: https://github.com/NicolasHug/Surprise\n",
    "\n",
    "Overall, the two models attempting to build a recommendation engine were able to make decent recommendaitons with a high cross-validation score of 92%, but ultimately exhibited signs of overfitting. This is likely due to the limited sample size and a tendency of users to submit very few responses. Adding a five-star rating to the responses instead of a simple like/dislike feature can add additional complexity for the models and allow us to account for user bias in the data. However, it is unlikely to overcome the problem of overfitting."
   ]
  },
  {
   "cell_type": "code",
   "execution_count": 1,
   "metadata": {},
   "outputs": [],
   "source": [
    "import pandas as pd\n",
    "import os\n",
    "import random\n",
    "import numpy as np\n",
    "from surprise import SVD, KNNBasic, Reader, Dataset, accuracy\n",
    "from surprise.model_selection import cross_validate, GridSearchCV, train_test_split\n",
    "from pathlib import Path\n",
    "\n",
    "my_seed = 23141\n",
    "random.seed(my_seed)\n",
    "np.random.seed(my_seed)"
   ]
  },
  {
   "cell_type": "code",
   "execution_count": 2,
   "metadata": {},
   "outputs": [],
   "source": [
    "dir = Path(os.getcwd())\n",
    "merged_data = pd.read_csv(dir/\"merged_preferences.csv\")"
   ]
  },
  {
   "cell_type": "code",
   "execution_count": 3,
   "metadata": {},
   "outputs": [],
   "source": [
    "merged_data['pref'] = merged_data.pref.replace(False, -1)\n",
    "merged_data['pref'] = merged_data.pref.replace(True, 1)"
   ]
  },
  {
   "cell_type": "markdown",
   "metadata": {},
   "source": [
    "Setting the data up to create a collaborative filtering engine, where recommendations are made for a user based on their preference similarities to other users. The surprise scikit requires data to be loaded into its DataSet class to be formatted for model building and prediction. "
   ]
  },
  {
   "cell_type": "code",
   "execution_count": 4,
   "metadata": {},
   "outputs": [],
   "source": [
    "user_collab_data = merged_data.iloc[:,0:3]\n",
    "reader = Reader(rating_scale=(0,1))\n",
    "ds = Dataset.load_from_df(merged_data[['user_id', 'item_id', 'pref']], reader)\n",
    "\n",
    "# splitting off a dev set to test after, the train/test split class cannot be used with GridSearchCV\n",
    "raw_ratings = ds.raw_ratings\n",
    "random.shuffle(raw_ratings)\n",
    "threshold = int(.95 * len(raw_ratings))\n",
    "train_raw_ratings = raw_ratings[:threshold]\n",
    "dev_raw_ratings = raw_ratings[threshold:]\n",
    "ds.raw_ratings = train_raw_ratings"
   ]
  },
  {
   "cell_type": "markdown",
   "metadata": {},
   "source": [
    "First, testing the Singular Value Decomposition system on the data using grid search cross-validation. K-fold cross validation methods split the data into K equal sized datasets, then runs through K iterations of training a model on K-1 combined sets before testing on the remaining set. This reduces bias and variance in the model, helping to prevent a model from overfitting or underfitting to the data. On top of this cross-validation, the Grid Search takes discrete parameter values to be applied to a model and tests each combination of parameters to find the set with the best predictive power. \n",
    "\n",
    "The merged preferences have around 3,000 samples, which is a fairly large data set. A 3-fold cross validation will be used on the data, which will leave 20% of the data to be tested on for each fold. The parameters that will be tuned through the Grid Search CV are the number of iterations to reduce the overall error of the model (n_epochs), the learning rate which determines the speed of error minimization (lr_all), and rate of regularization which can prevent model overfitting (lr_all)."
   ]
  },
  {
   "cell_type": "code",
   "execution_count": 5,
   "metadata": {},
   "outputs": [
    {
     "name": "stdout",
     "output_type": "stream",
     "text": [
      "0.8924315289824216\n",
      "{'n_epochs': 10, 'lr_all': 0.01, 'reg_all': 0.02}\n",
      "RMSE: 0.6900\n",
      "Biased accuracy on dev set: 0.6900029332666373\n"
     ]
    }
   ],
   "source": [
    "grid_search_params = {'n_epochs':[10, 20, 30], 'lr_all': [0.005, 0.010], 'reg_all': [0.01, .02, .03]}\n",
    "svd_grid = GridSearchCV(SVD, grid_search_params, measures=['rmse', 'mae'], cv=3)\n",
    "svd_grid.fit(ds)\n",
    "print(svd_grid.best_score['rmse'])\n",
    "print(svd_grid.best_params['rmse'])\n",
    "\n",
    "svd_model = svd_grid.best_estimator['rmse']\n",
    "train_set = ds.build_full_trainset()\n",
    "svd_model.fit(train_set)\n",
    "predictions = svd_model.test(train_set.build_testset())\n",
    "svd_dev = accuracy.rmse(predictions)\n",
    "print(f'Biased accuracy on dev set: {svd_dev}')"
   ]
  },
  {
   "cell_type": "markdown",
   "metadata": {},
   "source": [
    "The SCD system provided some fairly good estimations overall, with the average values at 89%, but with a very poor performance on the validation set at 33% correct recommendation. This is very likely due to overfitting the model, which can be corrected by collecting more data. We could try to continue refining this model by refining grid search parameters basic on the best score model, but let's see if the K-nearest neighbor algorithm has better results first. "
   ]
  },
  {
   "cell_type": "code",
   "execution_count": 6,
   "metadata": {},
   "outputs": [
    {
     "name": "stdout",
     "output_type": "stream",
     "text": [
      "Computing the msd similarity matrix...\n",
      "Done computing similarity matrix.\n",
      "Computing the msd similarity matrix...\n",
      "Done computing similarity matrix.\n",
      "Computing the msd similarity matrix...\n",
      "Done computing similarity matrix.\n",
      "Computing the msd similarity matrix...\n",
      "Done computing similarity matrix.\n",
      "Computing the msd similarity matrix...\n",
      "Done computing similarity matrix.\n",
      "Computing the msd similarity matrix...\n",
      "Done computing similarity matrix.\n",
      "Computing the msd similarity matrix...\n",
      "Done computing similarity matrix.\n",
      "Computing the msd similarity matrix...\n",
      "Done computing similarity matrix.\n",
      "Computing the msd similarity matrix...\n",
      "Done computing similarity matrix.\n",
      "Computing the msd similarity matrix...\n",
      "Done computing similarity matrix.\n",
      "Computing the msd similarity matrix...\n",
      "Done computing similarity matrix.\n",
      "Computing the msd similarity matrix...\n",
      "Done computing similarity matrix.\n",
      "Computing the msd similarity matrix...\n",
      "Done computing similarity matrix.\n",
      "Computing the msd similarity matrix...\n",
      "Done computing similarity matrix.\n",
      "Computing the msd similarity matrix...\n",
      "Done computing similarity matrix.\n",
      "Computing the msd similarity matrix...\n",
      "Done computing similarity matrix.\n",
      "Computing the msd similarity matrix...\n",
      "Done computing similarity matrix.\n",
      "Computing the msd similarity matrix...\n",
      "Done computing similarity matrix.\n",
      "Computing the msd similarity matrix...\n",
      "Done computing similarity matrix.\n",
      "Computing the msd similarity matrix...\n",
      "Done computing similarity matrix.\n",
      "Computing the msd similarity matrix...\n",
      "Done computing similarity matrix.\n",
      "Computing the msd similarity matrix...\n",
      "Done computing similarity matrix.\n",
      "Computing the msd similarity matrix...\n",
      "Done computing similarity matrix.\n",
      "Computing the msd similarity matrix...\n",
      "Done computing similarity matrix.\n",
      "Computing the msd similarity matrix...\n",
      "Done computing similarity matrix.\n",
      "Computing the msd similarity matrix...\n",
      "Done computing similarity matrix.\n",
      "Computing the msd similarity matrix...\n",
      "Done computing similarity matrix.\n",
      "Computing the msd similarity matrix...\n",
      "Done computing similarity matrix.\n",
      "Computing the msd similarity matrix...\n",
      "Done computing similarity matrix.\n",
      "Computing the msd similarity matrix...\n",
      "Done computing similarity matrix.\n",
      "Computing the msd similarity matrix...\n",
      "Done computing similarity matrix.\n",
      "Computing the msd similarity matrix...\n",
      "Done computing similarity matrix.\n",
      "Computing the msd similarity matrix...\n",
      "Done computing similarity matrix.\n",
      "Computing the msd similarity matrix...\n",
      "Done computing similarity matrix.\n",
      "Computing the msd similarity matrix...\n",
      "Done computing similarity matrix.\n",
      "Computing the msd similarity matrix...\n",
      "Done computing similarity matrix.\n",
      "Computing the msd similarity matrix...\n",
      "Done computing similarity matrix.\n",
      "Computing the msd similarity matrix...\n",
      "Done computing similarity matrix.\n",
      "Computing the msd similarity matrix...\n",
      "Done computing similarity matrix.\n",
      "Computing the msd similarity matrix...\n",
      "Done computing similarity matrix.\n",
      "Computing the msd similarity matrix...\n",
      "Done computing similarity matrix.\n",
      "Computing the msd similarity matrix...\n",
      "Done computing similarity matrix.\n",
      "Computing the msd similarity matrix...\n",
      "Done computing similarity matrix.\n",
      "Computing the msd similarity matrix...\n",
      "Done computing similarity matrix.\n",
      "Computing the msd similarity matrix...\n",
      "Done computing similarity matrix.\n",
      "Computing the msd similarity matrix...\n",
      "Done computing similarity matrix.\n",
      "Computing the msd similarity matrix...\n",
      "Done computing similarity matrix.\n",
      "Computing the msd similarity matrix...\n",
      "Done computing similarity matrix.\n",
      "Computing the msd similarity matrix...\n",
      "Done computing similarity matrix.\n",
      "Computing the msd similarity matrix...\n",
      "Done computing similarity matrix.\n",
      "Computing the msd similarity matrix...\n",
      "Done computing similarity matrix.\n",
      "Computing the msd similarity matrix...\n",
      "Done computing similarity matrix.\n",
      "Computing the msd similarity matrix...\n",
      "Done computing similarity matrix.\n",
      "Computing the msd similarity matrix...\n",
      "Done computing similarity matrix.\n",
      "Computing the msd similarity matrix...\n",
      "Done computing similarity matrix.\n",
      "Computing the msd similarity matrix...\n",
      "Done computing similarity matrix.\n",
      "Computing the msd similarity matrix...\n",
      "Done computing similarity matrix.\n",
      "Computing the msd similarity matrix...\n",
      "Done computing similarity matrix.\n",
      "Computing the msd similarity matrix...\n",
      "Done computing similarity matrix.\n",
      "Computing the msd similarity matrix...\n",
      "Done computing similarity matrix.\n",
      "Computing the msd similarity matrix...\n",
      "Done computing similarity matrix.\n",
      "Computing the msd similarity matrix...\n",
      "Done computing similarity matrix.\n",
      "Computing the msd similarity matrix...\n",
      "Done computing similarity matrix.\n",
      "Computing the msd similarity matrix...\n",
      "Done computing similarity matrix.\n",
      "Computing the msd similarity matrix...\n",
      "Done computing similarity matrix.\n",
      "Computing the msd similarity matrix...\n",
      "Done computing similarity matrix.\n",
      "Computing the msd similarity matrix...\n",
      "Done computing similarity matrix.\n",
      "Computing the msd similarity matrix...\n",
      "Done computing similarity matrix.\n",
      "Computing the msd similarity matrix...\n",
      "Done computing similarity matrix.\n",
      "Computing the msd similarity matrix...\n",
      "Done computing similarity matrix.\n",
      "Computing the msd similarity matrix...\n",
      "Done computing similarity matrix.\n",
      "Computing the msd similarity matrix...\n",
      "Done computing similarity matrix.\n",
      "Computing the msd similarity matrix...\n",
      "Done computing similarity matrix.\n",
      "Computing the msd similarity matrix...\n",
      "Done computing similarity matrix.\n",
      "Computing the msd similarity matrix...\n",
      "Done computing similarity matrix.\n",
      "Computing the msd similarity matrix...\n",
      "Done computing similarity matrix.\n",
      "Computing the msd similarity matrix...\n",
      "Done computing similarity matrix.\n",
      "Computing the msd similarity matrix...\n",
      "Done computing similarity matrix.\n",
      "Computing the msd similarity matrix...\n",
      "Done computing similarity matrix.\n",
      "Computing the msd similarity matrix...\n",
      "Done computing similarity matrix.\n",
      "Computing the msd similarity matrix...\n",
      "Done computing similarity matrix.\n",
      "Computing the msd similarity matrix...\n",
      "Done computing similarity matrix.\n",
      "Computing the msd similarity matrix...\n",
      "Done computing similarity matrix.\n",
      "Computing the msd similarity matrix...\n",
      "Done computing similarity matrix.\n",
      "Computing the msd similarity matrix...\n",
      "Done computing similarity matrix.\n",
      "Computing the msd similarity matrix...\n",
      "Done computing similarity matrix.\n",
      "Computing the msd similarity matrix...\n",
      "Done computing similarity matrix.\n",
      "Computing the msd similarity matrix...\n",
      "Done computing similarity matrix.\n",
      "Computing the msd similarity matrix...\n",
      "Done computing similarity matrix.\n",
      "Computing the msd similarity matrix...\n",
      "Done computing similarity matrix.\n",
      "Computing the msd similarity matrix...\n",
      "Done computing similarity matrix.\n",
      "Computing the msd similarity matrix...\n",
      "Done computing similarity matrix.\n",
      "Computing the msd similarity matrix...\n",
      "Done computing similarity matrix.\n",
      "Computing the msd similarity matrix...\n",
      "Done computing similarity matrix.\n",
      "Computing the msd similarity matrix...\n",
      "Done computing similarity matrix.\n",
      "Computing the msd similarity matrix...\n",
      "Done computing similarity matrix.\n",
      "Computing the msd similarity matrix...\n",
      "Done computing similarity matrix.\n",
      "Computing the msd similarity matrix...\n",
      "Done computing similarity matrix.\n",
      "Computing the msd similarity matrix...\n",
      "Done computing similarity matrix.\n",
      "Computing the msd similarity matrix...\n",
      "Done computing similarity matrix.\n",
      "Computing the msd similarity matrix...\n",
      "Done computing similarity matrix.\n",
      "Computing the msd similarity matrix...\n",
      "Done computing similarity matrix.\n",
      "Computing the msd similarity matrix...\n",
      "Done computing similarity matrix.\n",
      "Computing the msd similarity matrix...\n",
      "Done computing similarity matrix.\n",
      "Computing the msd similarity matrix...\n",
      "Done computing similarity matrix.\n",
      "Computing the msd similarity matrix...\n",
      "Done computing similarity matrix.\n",
      "Computing the msd similarity matrix...\n",
      "Done computing similarity matrix.\n",
      "Computing the msd similarity matrix...\n",
      "Done computing similarity matrix.\n",
      "Computing the msd similarity matrix...\n",
      "Done computing similarity matrix.\n",
      "Computing the msd similarity matrix...\n",
      "Done computing similarity matrix.\n",
      "Computing the msd similarity matrix...\n",
      "Done computing similarity matrix.\n",
      "Computing the msd similarity matrix...\n",
      "Done computing similarity matrix.\n",
      "Computing the msd similarity matrix...\n",
      "Done computing similarity matrix.\n",
      "Computing the msd similarity matrix...\n",
      "Done computing similarity matrix.\n",
      "Computing the msd similarity matrix...\n"
     ]
    },
    {
     "name": "stdout",
     "output_type": "stream",
     "text": [
      "Done computing similarity matrix.\n",
      "Computing the msd similarity matrix...\n",
      "Done computing similarity matrix.\n",
      "Computing the msd similarity matrix...\n",
      "Done computing similarity matrix.\n",
      "Computing the msd similarity matrix...\n",
      "Done computing similarity matrix.\n",
      "Computing the msd similarity matrix...\n",
      "Done computing similarity matrix.\n",
      "Computing the msd similarity matrix...\n",
      "Done computing similarity matrix.\n"
     ]
    }
   ],
   "source": [
    "grid_search_KNN_params = {'k': [10, 20, 30, 40, 50, 60], 'min_k': [2, 3, 4, 5]}\n",
    "knn_grid = GridSearchCV(KNNBasic, grid_search_KNN_params, measures=['rmse', 'mae'], cv=5)\n",
    "knn_grid.fit(ds)"
   ]
  },
  {
   "cell_type": "code",
   "execution_count": 7,
   "metadata": {},
   "outputs": [
    {
     "name": "stdout",
     "output_type": "stream",
     "text": [
      "0.921625085658345\n",
      "{'k': 20, 'min_k': 5}\n",
      "Computing the msd similarity matrix...\n",
      "Done computing similarity matrix.\n",
      "RMSE: 0.5779\n",
      "Biased accuracy on dev set: 0.5779389749055724\n"
     ]
    }
   ],
   "source": [
    "print(knn_grid.best_score['rmse'])\n",
    "print(knn_grid.best_params['rmse'])\n",
    "\n",
    "knn_model = knn_grid.best_estimator['rmse']\n",
    "train_set = ds.build_full_trainset()\n",
    "knn_model.fit(train_set)\n",
    "predictions = knn_model.test(train_set.build_testset())\n",
    "knn_dev = accuracy.rmse(predictions)\n",
    "print(f'Biased accuracy on dev set: {knn_dev}')"
   ]
  },
  {
   "cell_type": "markdown",
   "metadata": {},
   "source": [
    "Similar results as the SVD model, although the overall cross validation score was 92%, the dev testing score was only 58% indicating the model is overfit. This can be overcome by gathering a lot more data, and isn't wholly unexpected since there are 181 unique pieces of art submitted by only 757 users, with only around 80% of users submitting more than one response (see the data analysis notebook for more details). It is possible the randomly selected dev set is derived of users that do not have close matches in the training and testing sets. Collecting more data is likely to fill in these gaps. \n",
    "\n",
    "Below, trying out a KNN model that focuses on the artwork instead of the users, but the results are very similar:"
   ]
  },
  {
   "cell_type": "code",
   "execution_count": 8,
   "metadata": {},
   "outputs": [
    {
     "name": "stdout",
     "output_type": "stream",
     "text": [
      "Computing the msd similarity matrix...\n",
      "Done computing similarity matrix.\n",
      "Computing the msd similarity matrix...\n",
      "Done computing similarity matrix.\n",
      "Computing the msd similarity matrix...\n",
      "Done computing similarity matrix.\n",
      "Computing the msd similarity matrix...\n",
      "Done computing similarity matrix.\n",
      "Computing the msd similarity matrix...\n",
      "Done computing similarity matrix.\n"
     ]
    },
    {
     "data": {
      "text/plain": [
       "{'test_rmse': array([0.91267743, 0.91153953, 0.93422213, 0.96317068, 0.91149057]),\n",
       " 'fit_time': (0.04170823097229004,\n",
       "  0.030707597732543945,\n",
       "  0.017725229263305664,\n",
       "  0.020313501358032227,\n",
       "  0.018004417419433594),\n",
       " 'test_time': (0.041306495666503906,\n",
       "  0.04108405113220215,\n",
       "  0.04585838317871094,\n",
       "  0.04625821113586426,\n",
       "  0.04130411148071289)}"
      ]
     },
     "execution_count": 8,
     "metadata": {},
     "output_type": "execute_result"
    }
   ],
   "source": [
    "algo = KNNBasic(k=30, min_k=5, sim_options= {'name': 'msd', 'user_based': 'False'})\n",
    "cross_validate(algo, ds, measures=['rmse'], cv=5)"
   ]
  }
 ],
 "metadata": {
  "kernelspec": {
   "display_name": "divrods",
   "language": "python",
   "name": "divrods"
  },
  "language_info": {
   "codemirror_mode": {
    "name": "ipython",
    "version": 3
   },
   "file_extension": ".py",
   "mimetype": "text/x-python",
   "name": "python",
   "nbconvert_exporter": "python",
   "pygments_lexer": "ipython3",
   "version": "3.6.7"
  }
 },
 "nbformat": 4,
 "nbformat_minor": 2
}
